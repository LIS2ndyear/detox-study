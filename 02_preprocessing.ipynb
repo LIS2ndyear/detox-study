{
 "cells": [
  {
   "cell_type": "markdown",
   "id": "90b06631-36ef-40cc-ba12-b4ac12f05042",
   "metadata": {},
   "source": [
    "# Emotional and Linguistic Framing of Digital Detox"
   ]
  },
  {
   "cell_type": "markdown",
   "id": "177b6fe7-7cf9-4e20-8f38-957befc56d5f",
   "metadata": {},
   "source": [
    "#### Notebook 2: Preporcessing and Cleaning"
   ]
  },
  {
   "cell_type": "markdown",
   "id": "bb4ea9a1-c0fc-438d-bdc7-6863139a828d",
   "metadata": {},
   "source": [
    "This notebook performs text cleaning and tokenisation on Reddit posts collected in Notebook 1, preparing the data for linguistic and emotional analysis.\n",
    "\n",
    "The process includes:\n",
    "\n",
    "- Removing noise (non-English posts, short texts, links)\n",
    "- Filtering out stopwords and punctuation\n",
    "- Tokenising text into individual words\n",
    "- Balancing the dataset by sampling an equal number of detox and control posts\n",
    "- The cleaned and balanced datasets are saved for use in later analysis notebooks."
   ]
  },
  {
   "cell_type": "code",
   "execution_count": 1,
   "id": "5a55f336-c071-44cc-b2d9-f9f0b863e3db",
   "metadata": {},
   "outputs": [
    {
     "name": "stdout",
     "output_type": "stream",
     "text": [
      "Requirement already satisfied: nltk in /opt/conda/lib/python3.11/site-packages (3.9.1)\n",
      "Requirement already satisfied: pandas in /opt/conda/lib/python3.11/site-packages (2.2.2)\n",
      "Requirement already satisfied: langdetect in /opt/conda/lib/python3.11/site-packages (1.0.9)\n",
      "Requirement already satisfied: click in /opt/conda/lib/python3.11/site-packages (from nltk) (8.1.8)\n",
      "Requirement already satisfied: joblib in /opt/conda/lib/python3.11/site-packages (from nltk) (1.4.2)\n",
      "Requirement already satisfied: regex>=2021.8.3 in /opt/conda/lib/python3.11/site-packages (from nltk) (2024.11.6)\n",
      "Requirement already satisfied: tqdm in /opt/conda/lib/python3.11/site-packages (from nltk) (4.66.1)\n",
      "Requirement already satisfied: numpy>=1.23.2 in /opt/conda/lib/python3.11/site-packages (from pandas) (2.0.2)\n",
      "Requirement already satisfied: python-dateutil>=2.8.2 in /opt/conda/lib/python3.11/site-packages (from pandas) (2.8.2)\n",
      "Requirement already satisfied: pytz>=2020.1 in /opt/conda/lib/python3.11/site-packages (from pandas) (2023.3.post1)\n",
      "Requirement already satisfied: tzdata>=2022.7 in /opt/conda/lib/python3.11/site-packages (from pandas) (2025.1)\n",
      "Requirement already satisfied: six in /opt/conda/lib/python3.11/site-packages (from langdetect) (1.16.0)\n"
     ]
    },
    {
     "name": "stderr",
     "output_type": "stream",
     "text": [
      "[nltk_data] Downloading package punkt to /home/jovyan/nltk_data...\n",
      "[nltk_data]   Package punkt is already up-to-date!\n",
      "[nltk_data] Downloading package stopwords to /home/jovyan/nltk_data...\n",
      "[nltk_data]   Package stopwords is already up-to-date!\n"
     ]
    },
    {
     "data": {
      "text/plain": [
       "True"
      ]
     },
     "execution_count": 1,
     "metadata": {},
     "output_type": "execute_result"
    }
   ],
   "source": [
    "!pip install nltk pandas langdetect\n",
    "\n",
    "# imports\n",
    "import pandas as pd\n",
    "import string\n",
    "from nltk.tokenize import word_tokenize\n",
    "from nltk.corpus import stopwords\n",
    "import nltk\n",
    "from langdetect import detect\n",
    "nltk.download(\"punkt\")\n",
    "nltk.download(\"stopwords\")"
   ]
  },
  {
   "cell_type": "code",
   "execution_count": 2,
   "id": "2f5cf053-dd34-4a5d-a062-1388730cbedc",
   "metadata": {},
   "outputs": [],
   "source": [
    "# load dataset \n",
    "combined_df = pd.read_csv('/home/jovyan/XXX/Back up/XXX/combined_reddit_digital_detox_study_dataframe.csv')"
   ]
  },
  {
   "cell_type": "code",
   "execution_count": 3,
   "id": "5f424416-fb83-40e9-8d7f-b8295661d164",
   "metadata": {},
   "outputs": [],
   "source": [
    "# assign id identifier to help with merging both datasets\n",
    "combined_df['post_id'] = combined_df.index"
   ]
  },
  {
   "cell_type": "code",
   "execution_count": 4,
   "id": "f195b914-51dd-4625-954b-5772c626ede2",
   "metadata": {},
   "outputs": [],
   "source": [
    "# https://stackoverflow.com/questions/43916600/text-language-detection-in-python\n",
    "\n",
    "# detect language \n",
    "def detect_language(text):\n",
    "    try:\n",
    "        return detect(text)\n",
    "    except:\n",
    "        return 'unknown'\n",
    "\n",
    "# preprocessing function before tokenisation to clean data \n",
    "def clean_text_data(df):\n",
    "    # keep only posts with more than 50 characters\n",
    "    df = df[df['body'].str.len() > 50]\n",
    "\n",
    "    # keep only English posts\n",
    "    df = df[df['body'].apply(detect_language) == 'en']\n",
    "\n",
    "    # remove posts containing links (spam, bots)\n",
    "    df = df[~df['body'].str.contains('http|www', case=False)]\n",
    "\n",
    "    return df"
   ]
  },
  {
   "cell_type": "code",
   "execution_count": 5,
   "id": "e55e2598-f0c7-4942-89c2-b5427b0c0bbe",
   "metadata": {},
   "outputs": [],
   "source": [
    "# code adapted from notebook - data classification\n",
    "# initialise tokenisation, lemmatiser, stopwords, and punctuation\n",
    "\n",
    "# initialise stopwords and punctuation sets\n",
    "stops = set(stopwords.words('english'))\n",
    "punct = set(string.punctuation)\n",
    "\n",
    "# tokenisation function without lemmatisation\n",
    "def good_tokens(text):\n",
    "    # handle missing values\n",
    "    if pd.isna(text):  \n",
    "        return []\n",
    "    \n",
    "    words = word_tokenize(text)\n",
    "    words = [word.lower() for word in words if word.isalpha()]\n",
    "    tokens = [word for word in words if word not in stops and word not in punct]\n",
    "    return tokens"
   ]
  },
  {
   "cell_type": "code",
   "execution_count": 6,
   "id": "c9bb044a-911a-41e1-bed8-9aeedc4e0d9b",
   "metadata": {},
   "outputs": [
    {
     "name": "stderr",
     "output_type": "stream",
     "text": [
      "/tmp/ipykernel_494/3340315538.py:9: SettingWithCopyWarning: \n",
      "A value is trying to be set on a copy of a slice from a DataFrame.\n",
      "Try using .loc[row_indexer,col_indexer] = value instead\n",
      "\n",
      "See the caveats in the documentation: https://pandas.pydata.org/pandas-docs/stable/user_guide/indexing.html#returning-a-view-versus-a-copy\n",
      "  detox_df.loc[:, 'body_tokens'] = detox_df['body'].apply(good_tokens)\n",
      "/tmp/ipykernel_494/3340315538.py:10: SettingWithCopyWarning: \n",
      "A value is trying to be set on a copy of a slice from a DataFrame.\n",
      "Try using .loc[row_indexer,col_indexer] = value instead\n",
      "\n",
      "See the caveats in the documentation: https://pandas.pydata.org/pandas-docs/stable/user_guide/indexing.html#returning-a-view-versus-a-copy\n",
      "  control_df.loc[:, 'body_tokens'] = control_df['body'].apply(good_tokens)\n"
     ]
    }
   ],
   "source": [
    "# clean \n",
    "combined_df = clean_text_data(combined_df)\n",
    "\n",
    "# split into groups\n",
    "detox_df = combined_df[combined_df['group'] == 'detox']\n",
    "control_df = combined_df[combined_df['group'] == 'control']\n",
    "\n",
    "# tokenise cleaned data\n",
    "detox_df.loc[:, 'body_tokens'] = detox_df['body'].apply(good_tokens)\n",
    "control_df.loc[:, 'body_tokens'] = control_df['body'].apply(good_tokens)"
   ]
  },
  {
   "cell_type": "code",
   "execution_count": 11,
   "id": "f167b102-3080-4850-963c-189f0af426da",
   "metadata": {},
   "outputs": [],
   "source": [
    "# sample size\n",
    "sample_size = 3500\n",
    "\n",
    "# sample 3500 posts from each\n",
    "balanced_detox = detox_df.sample(n=sample_size, random_state=42)\n",
    "balanced_control = control_df.sample(n=sample_size, random_state=42)"
   ]
  },
  {
   "cell_type": "code",
   "execution_count": 12,
   "id": "87cbf42c-55eb-4f37-bd96-449f8f2626d0",
   "metadata": {},
   "outputs": [],
   "source": [
    "# save to CSV\n",
    "balanced_detox.to_csv(\"/home/jovyan/XXX/Back up/XXX/balanced_detox_posts.csv\")\n",
    "balanced_control.to_csv(\"/home/jovyan/XXX/Back up/XXX/balanced_control_posts.csv\")"
   ]
  }
 ],
 "metadata": {
  "kernelspec": {
   "display_name": "Python 3 (ipykernel)",
   "language": "python",
   "name": "python3"
  },
  "language_info": {
   "codemirror_mode": {
    "name": "ipython",
    "version": 3
   },
   "file_extension": ".py",
   "mimetype": "text/x-python",
   "name": "python",
   "nbconvert_exporter": "python",
   "pygments_lexer": "ipython3",
   "version": "3.11.6"
  }
 },
 "nbformat": 4,
 "nbformat_minor": 5
}
